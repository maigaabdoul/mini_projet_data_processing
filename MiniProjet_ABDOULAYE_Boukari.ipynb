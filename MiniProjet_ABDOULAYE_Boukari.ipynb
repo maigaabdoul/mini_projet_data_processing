{
 "cells": [
  {
   "cell_type": "code",
   "execution_count": 4,
   "source": [
    "import pandas as pd"
   ],
   "outputs": [],
   "metadata": {}
  },
  {
   "cell_type": "code",
   "execution_count": 5,
   "source": [
    "df = pd.read_table(\"C:/Users/HP/Desktop/Miniprojet/BF.txt\",sep = '\\t',header = None)\r\n",
    "print(df.shape)"
   ],
   "outputs": [
    {
     "output_type": "stream",
     "name": "stdout",
     "text": [
      "(11297, 19)\n"
     ]
    }
   ],
   "metadata": {}
  },
  {
   "cell_type": "code",
   "execution_count": 6,
   "source": [
    "print(df.head())"
   ],
   "outputs": [
    {
     "output_type": "stream",
     "name": "stdout",
     "text": [
      "        0          1          2    3         4        5  6    7   8    9   10  \\\n",
      "0  2353158   Zyonguen   Zyonguen  NaN  12.36667 -0.45000  P  PPL  BF  NaN  04   \n",
      "1  2353159  Zyiliwèlè  Zyiliwele  NaN  12.38333 -2.73333  P  PPL  BF  NaN  06   \n",
      "2  2353160     Zyanko     Zyanko  NaN  12.78333 -0.41667  P  PPL  BF  NaN  05   \n",
      "3  2353161      Zouta      Zouta  NaN  13.14908 -1.28197  P  PPL  BF  NaN  05   \n",
      "4  2353162  Zourtenga  Zourtenga  NaN  12.95741 -1.28745  P  PPL  BF  NaN  05   \n",
      "\n",
      "     11  12  13  14  15   16                  17          18  \n",
      "0   NaN NaN NaN   0 NaN  293  Africa/Ouagadougou  2012-06-05  \n",
      "1   NaN NaN NaN   0 NaN  277  Africa/Ouagadougou  2012-06-05  \n",
      "2   NaN NaN NaN   0 NaN  301  Africa/Ouagadougou  2012-06-05  \n",
      "3  70.0 NaN NaN   0 NaN  306  Africa/Ouagadougou  2010-07-31  \n",
      "4   NaN NaN NaN   0 NaN  290  Africa/Ouagadougou  2018-09-05  \n"
     ]
    }
   ],
   "metadata": {}
  },
  {
   "cell_type": "code",
   "execution_count": 7,
   "source": [
    "print(df.columns)"
   ],
   "outputs": [
    {
     "output_type": "stream",
     "name": "stdout",
     "text": [
      "Int64Index([0, 1, 2, 3, 4, 5, 6, 7, 8, 9, 10, 11, 12, 13, 14, 15, 16, 17, 18], dtype='int64')\n"
     ]
    }
   ],
   "metadata": {}
  },
  {
   "cell_type": "code",
   "execution_count": 6,
   "source": [
    "print(df.info())"
   ],
   "outputs": [
    {
     "output_type": "stream",
     "name": "stdout",
     "text": [
      "<class 'pandas.core.frame.DataFrame'>\n",
      "RangeIndex: 11296 entries, 0 to 11295\n",
      "Data columns (total 19 columns):\n",
      " #   Column              Non-Null Count  Dtype  \n",
      "---  ------              --------------  -----  \n",
      " 0   2353158             11296 non-null  int64  \n",
      " 1   Zyonguen            11296 non-null  object \n",
      " 2   Zyonguen.1          11296 non-null  object \n",
      " 3   Unnamed: 3          2975 non-null   object \n",
      " 4   12.36667            11296 non-null  float64\n",
      " 5   -0.45               11296 non-null  float64\n",
      " 6   P                   11296 non-null  object \n",
      " 7   PPL                 11296 non-null  object \n",
      " 8   BF                  11296 non-null  object \n",
      " 9   Unnamed: 9          51 non-null     object \n",
      " 10  04                  11291 non-null  object \n",
      " 11  Unnamed: 11         5288 non-null   float64\n",
      " 12  Unnamed: 12         55 non-null     float64\n",
      " 13  Unnamed: 13         0 non-null      float64\n",
      " 14  0                   11296 non-null  int64  \n",
      " 15  Unnamed: 15         72 non-null     float64\n",
      " 16  293                 11296 non-null  int64  \n",
      " 17  Africa/Ouagadougou  11296 non-null  object \n",
      " 18  2012-06-05          11296 non-null  object \n",
      "dtypes: float64(6), int64(3), object(10)\n",
      "memory usage: 1.6+ MB\n",
      "None\n"
     ]
    }
   ],
   "metadata": {}
  },
  {
   "cell_type": "code",
   "execution_count": null,
   "source": [
    "df.columns=[\"a\", \"b\", \"c\", \"d\"]\r\n",
    "print(df)"
   ],
   "outputs": [],
   "metadata": {}
  },
  {
   "cell_type": "code",
   "execution_count": 7,
   "source": [
    "print(df.iloc[0:5,0:6])"
   ],
   "outputs": [
    {
     "output_type": "stream",
     "name": "stdout",
     "text": [
      "   2353158   Zyonguen Zyonguen.1 Unnamed: 3  12.36667    -0.45\n",
      "0  2353159  Zyiliwèlè  Zyiliwele        NaN  12.38333 -2.73333\n",
      "1  2353160     Zyanko     Zyanko        NaN  12.78333 -0.41667\n",
      "2  2353161      Zouta      Zouta        NaN  13.14908 -1.28197\n",
      "3  2353162  Zourtenga  Zourtenga        NaN  12.95741 -1.28745\n",
      "4  2353163     Zourma     Zourma     Zourma  11.39083 -0.79556\n"
     ]
    }
   ],
   "metadata": {}
  },
  {
   "cell_type": "code",
   "execution_count": 17,
   "source": [
    "# 3. Appliquons les opérations de prétraitement et filtres nécessaires à ce fichier, pour ne\r\n",
    "#garder que les colonnes correspondantes :\r\n",
    "   # ◦ Identifiants, Noms de lieux, latitudes, longitudes\r\n",
    "   # ◦ Renommez les avec les noms suivants : 'ID', 'location_name', 'lat', 'long'\r\n",
    "   # ◦ Sauvegarder ces données dans un fichier CSV, nommez-le burkina_location.csv\r\n",
    "    \r\n",
    "burkina_location = df.iloc[:,[0,1,4,5]] # Selection des éléments suivants: Identifiants, Noms de lieux, latitudes, longitudes\r\n",
    "burkina_location.columns=[\"ID\", \"location_name\", \"lat\", \"long\"] # Renommons les colonnes\r\n",
    "burkina_location.to_csv(\"C:/Users/HP/Desktop/Miniprojet/burkina_location.csv\", index = False)# enregistrement de la selection\r\n"
   ],
   "outputs": [],
   "metadata": {}
  },
  {
   "cell_type": "code",
   "execution_count": 71,
   "source": [
    "# 4. Opérations sur le fichier CSV burkina_location.csv.\r\n",
    "\r\n",
    "bf_location_csv = pd.read_csv(\"C:/Users/HP/Desktop/Miniprojet/burkina_location.csv\") # Ouverture de burkina_location\r\n",
    "\r\n",
    "gounghin = bf_location_csv[bf_location_csv['location_name'] == 'Gounghin'] # Extraction des données contenant le nom 'gounghin'\r\n",
    "\r\n",
    "gounghin.to_csv(\"C:/Users/HP/Desktop/Miniprojet/gounghin.csv\", index = False) # enregistrement de la selection des données contenant le nom gounhin\r\n",
    "\r\n",
    "import string\r\n",
    "\r\n",
    "first_letter_name_A_P = bf_location_csv[bf_location_csv['location_name'].str[0].isin(list(string.ascii_uppercase)[0:16])] # Extraction de la sous-partie de la base de données dont les 1ères lettre sont compris entre 'A' et 'P'\r\n",
    "first_letter_name_A_P.sort_values(by=['location_name'], ascending = True) # Tri par ordre alphabétique\r\n",
    "\r\n",
    "lat_min = bf_location_csv[bf_location_csv['lat'] == bf_location_csv['lat'].min()] # minimum latitude\r\n",
    "\r\n",
    "long_min = bf_location_csv[bf_location_csv['long'] == bf_location_csv['long'].min()] # minimum longitude\r\n",
    "\r\n",
    "specific_coordonne = bf_location_csv[(bf_location_csv['lat']>= 11)& (bf_location_csv['long']<= 0.5)] # Lieux avec coordonnées spécifiques\r\n",
    "\r\n",
    "\r\n"
   ],
   "outputs": [],
   "metadata": {}
  },
  {
   "cell_type": "code",
   "execution_count": 70,
   "source": [
    "# 5. Sorties Excel\n",
    "\n",
    "from pandas import ExcelWriter\n",
    "import xlsxwriter\n",
    "\n",
    "\n",
    "mini_projet = pd.ExcelWriter(\"C:/Users/HP/Desktop/Miniprojet/mini_projet.xlsx\")\n",
    "gounghin.to_excel(mini_projet, sheet_name = \"gounghin\")\n",
    "first_letter_name_A_P.to_excel(mini_projet, sheet_name = \"A_to_P\")\n",
    "mini_projet.save()\n"
   ],
   "outputs": [],
   "metadata": {}
  },
  {
   "cell_type": "code",
   "execution_count": null,
   "source": [],
   "outputs": [],
   "metadata": {}
  }
 ],
 "metadata": {
  "kernelspec": {
   "display_name": "Python 3 (ipykernel)",
   "language": "python",
   "name": "python3"
  },
  "language_info": {
   "codemirror_mode": {
    "name": "ipython",
    "version": 3
   },
   "file_extension": ".py",
   "mimetype": "text/x-python",
   "name": "python",
   "nbconvert_exporter": "python",
   "pygments_lexer": "ipython3",
   "version": "3.9.4"
  }
 },
 "nbformat": 4,
 "nbformat_minor": 5
}